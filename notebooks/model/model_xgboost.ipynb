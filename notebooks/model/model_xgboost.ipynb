{
 "cells": [
  {
   "cell_type": "code",
   "execution_count": 1,
   "metadata": {},
   "outputs": [],
   "source": [
    "import numpy as np\n",
    "import pandas as pd\n",
    "import matplotlib.pyplot as plt\n",
    "import seaborn as sns\n",
    "from sklearn.model_selection import train_test_split\n",
    "from sklearn.preprocessing import LabelEncoder\n",
    "from sklearn.impute import SimpleImputer\n",
    "from sklearn.ensemble import RandomForestRegressor\n",
    "from sklearn.metrics import mean_squared_error\n",
    "from sklearn.preprocessing import OrdinalEncoder\n",
    "from sklearn.model_selection import RandomizedSearchCV\n",
    "import warnings\n",
    "warnings.filterwarnings('ignore')"
   ]
  },
  {
   "cell_type": "code",
   "execution_count": 2,
   "metadata": {},
   "outputs": [],
   "source": [
    "data = pd.read_csv('train_v9rqX0R.csv')"
   ]
  },
  {
   "cell_type": "code",
   "execution_count": 4,
   "metadata": {},
   "outputs": [],
   "source": [
    "def preprocess_data(data):\n",
    "    \n",
    "    # Handle missing values\n",
    "    data['Item_Weight'] = data['Item_Weight'].interpolate(method=\"linear\")\n",
    "    data['Item_Visibility'] = data['Item_Visibility'].replace(0, np.nan).interpolate(method='linear')\n",
    "    \n",
    "    # Fill missing Outlet_Size based on Outlet_Type\n",
    "    outlet_size_mapping = {\n",
    "        'Grocery Store': 'Small',\n",
    "        'Supermarket Type1': 'Small',\n",
    "        'Supermarket Type2': 'Medium',\n",
    "        'Supermarket Type3': 'Medium'\n",
    "    }\n",
    "    \n",
    "    for outlet_type, size in outlet_size_mapping.items():\n",
    "        data.loc[(data['Outlet_Type'] == outlet_type) & data['Outlet_Size'].isnull(), 'Outlet_Size'] = size\n",
    "    \n",
    "    # Standardize Item_Fat_Content\n",
    "    fat_content_mapping = {\n",
    "        'Low Fat': 'Low Fat',\n",
    "        'LF': 'Low Fat',\n",
    "        'low fat': 'Low Fat',\n",
    "        'Regular': 'Regular',\n",
    "        'reg': 'Regular'\n",
    "    }\n",
    "    data['Item_Fat_Content'] = data['Item_Fat_Content'].replace(fat_content_mapping)\n",
    "    \n",
    "    # Extract first two characters from Item_Identifier\n",
    "    data['Item_Identifier'] = data['Item_Identifier'].apply(lambda x: x[:2])\n",
    "    \n",
    "    # Calculate outlet age\n",
    "    current_year = 2025\n",
    "    data['Outlet_Establishment_Year'] = current_year - data['Outlet_Establishment_Year']\n",
    "    \n",
    "    data['Price_per_Weight'] = data['Item_MRP'] / data['Item_Weight']\n",
    "    data['Store_Age_Size'] = data['Outlet_Establishment_Year'] * data['Outlet_Size']\n",
    "    data['Visibility_MRP'] = data['Item_Visibility'] * data['Item_MRP']\n",
    "    \n",
    "    # Encode categorical variables\n",
    "    cat_cols = data.select_dtypes(include=['object']).columns\n",
    "    for col in cat_cols:\n",
    "        oe = OrdinalEncoder()\n",
    "        data[col] = oe.fit_transform(data[[col]])\n",
    "    \n",
    "    return data"
   ]
  },
  {
   "cell_type": "code",
   "execution_count": 5,
   "metadata": {},
   "outputs": [],
   "source": [
    "data = preprocess_data(data)"
   ]
  },
  {
   "cell_type": "code",
   "execution_count": 6,
   "metadata": {},
   "outputs": [],
   "source": [
    "X = data.drop('Item_Outlet_Sales',axis=1)\n",
    "y = data['Item_Outlet_Sales']"
   ]
  },
  {
   "cell_type": "code",
   "execution_count": 9,
   "metadata": {},
   "outputs": [],
   "source": [
    "def train_top_features_model(X, y, n_features=20, cv_folds=5):\n",
    "    \n",
    "    xg_all = XGBRFRegressor(n_estimators=100, random_state=42)\n",
    "    xg_all.fit(X, y)\n",
    "    \n",
    "    # Get feature importance\n",
    "    feature_importance = pd.DataFrame({\n",
    "        'feature': X.columns,\n",
    "        'importance': xg_all.feature_importances_\n",
    "    }).sort_values('importance', ascending=False)\n",
    "    \n",
    "    # Select top n features\n",
    "    top_features = feature_importance.head(n_features)\n",
    "    X_selected = X[top_features['feature'].tolist()]\n",
    "    \n",
    "    # Perform cross-validation\n",
    "    model = XGBRFRegressor(n_estimators=100, random_state=42)\n",
    "    cv_scores = cross_val_score(\n",
    "        model, \n",
    "        X_selected, \n",
    "        y, \n",
    "        cv=cv_folds, \n",
    "        scoring='r2',\n",
    "        n_jobs=-1\n",
    "    )\n",
    "    \n",
    "    # Train final model with selected features\n",
    "    final_model = XGBRFRegressor(n_estimators=100, random_state=42)\n",
    "    final_model.fit(X_selected, y)\n",
    "    \n",
    "    # Calculate mean R2 score\n",
    "    mean_r2_score = cv_scores.mean()\n",
    "    \n",
    "    print(f\"\\nCross-validation R2 scores: {cv_scores}\")\n",
    "    print(f\"Mean R2 score: {mean_r2_score:.4f} (+/- {cv_scores.std() * 2:.4f})\")\n",
    "    \n",
    "    return final_model, top_features['feature'].tolist(), feature_importance, mean_r2_score"
   ]
  },
  {
   "cell_type": "code",
   "execution_count": 80,
   "metadata": {},
   "outputs": [
    {
     "name": "stdout",
     "output_type": "stream",
     "text": [
      "\n",
      "Cross-validation R2 scores: [0.60535215 0.58353803 0.57464397 0.60874792 0.60634988]\n",
      "Mean R2 score: 0.5957 (+/- 0.0278)\n"
     ]
    }
   ],
   "source": [
    "final_model, features, feature_importance, mean_r2_score= train_top_features_model(X, y, n_features=6)"
   ]
  },
  {
   "cell_type": "code",
   "execution_count": 81,
   "metadata": {},
   "outputs": [],
   "source": [
    "test_data = pd.read_csv('test_AbJTz2l.csv')\n",
    "test_data2 = test_data.copy()"
   ]
  },
  {
   "cell_type": "code",
   "execution_count": 82,
   "metadata": {},
   "outputs": [],
   "source": [
    "test_data2 = preprocess_data(test_data2)\n",
    "test_data2 = test_data2[features]"
   ]
  },
  {
   "cell_type": "code",
   "execution_count": 83,
   "metadata": {},
   "outputs": [],
   "source": [
    "test_result = final_model.predict(test_data2)"
   ]
  },
  {
   "cell_type": "code",
   "execution_count": 84,
   "metadata": {},
   "outputs": [],
   "source": [
    "test_data['Item_Outlet_Sales'] = test_result"
   ]
  },
  {
   "cell_type": "code",
   "execution_count": 85,
   "metadata": {},
   "outputs": [],
   "source": [
    "test_data = test_data[['Item_Identifier', 'Outlet_Identifier', 'Item_Outlet_Sales']]"
   ]
  },
  {
   "cell_type": "code",
   "execution_count": 86,
   "metadata": {},
   "outputs": [],
   "source": [
    "test_data.to_csv('submissionv8.csv', index=False)"
   ]
  },
  {
   "cell_type": "code",
   "execution_count": 87,
   "metadata": {},
   "outputs": [
    {
     "data": {
      "text/html": [
       "<div>\n",
       "<style scoped>\n",
       "    .dataframe tbody tr th:only-of-type {\n",
       "        vertical-align: middle;\n",
       "    }\n",
       "\n",
       "    .dataframe tbody tr th {\n",
       "        vertical-align: top;\n",
       "    }\n",
       "\n",
       "    .dataframe thead th {\n",
       "        text-align: right;\n",
       "    }\n",
       "</style>\n",
       "<table border=\"1\" class=\"dataframe\">\n",
       "  <thead>\n",
       "    <tr style=\"text-align: right;\">\n",
       "      <th></th>\n",
       "      <th>feature</th>\n",
       "      <th>importance</th>\n",
       "    </tr>\n",
       "  </thead>\n",
       "  <tbody>\n",
       "    <tr>\n",
       "      <th>10</th>\n",
       "      <td>Outlet_Type</td>\n",
       "      <td>0.367534</td>\n",
       "    </tr>\n",
       "    <tr>\n",
       "      <th>12</th>\n",
       "      <td>Store_Age_Size</td>\n",
       "      <td>0.349663</td>\n",
       "    </tr>\n",
       "    <tr>\n",
       "      <th>5</th>\n",
       "      <td>Item_MRP</td>\n",
       "      <td>0.088537</td>\n",
       "    </tr>\n",
       "    <tr>\n",
       "      <th>7</th>\n",
       "      <td>Outlet_Establishment_Year</td>\n",
       "      <td>0.082485</td>\n",
       "    </tr>\n",
       "    <tr>\n",
       "      <th>6</th>\n",
       "      <td>Outlet_Identifier</td>\n",
       "      <td>0.064045</td>\n",
       "    </tr>\n",
       "    <tr>\n",
       "      <th>8</th>\n",
       "      <td>Outlet_Size</td>\n",
       "      <td>0.022419</td>\n",
       "    </tr>\n",
       "    <tr>\n",
       "      <th>11</th>\n",
       "      <td>Price_per_Weight</td>\n",
       "      <td>0.014690</td>\n",
       "    </tr>\n",
       "    <tr>\n",
       "      <th>13</th>\n",
       "      <td>Visibility_MRP</td>\n",
       "      <td>0.002617</td>\n",
       "    </tr>\n",
       "    <tr>\n",
       "      <th>3</th>\n",
       "      <td>Item_Visibility</td>\n",
       "      <td>0.002021</td>\n",
       "    </tr>\n",
       "    <tr>\n",
       "      <th>9</th>\n",
       "      <td>Outlet_Location_Type</td>\n",
       "      <td>0.001878</td>\n",
       "    </tr>\n",
       "    <tr>\n",
       "      <th>1</th>\n",
       "      <td>Item_Weight</td>\n",
       "      <td>0.001646</td>\n",
       "    </tr>\n",
       "    <tr>\n",
       "      <th>4</th>\n",
       "      <td>Item_Type</td>\n",
       "      <td>0.001399</td>\n",
       "    </tr>\n",
       "    <tr>\n",
       "      <th>0</th>\n",
       "      <td>Item_Identifier</td>\n",
       "      <td>0.000654</td>\n",
       "    </tr>\n",
       "    <tr>\n",
       "      <th>2</th>\n",
       "      <td>Item_Fat_Content</td>\n",
       "      <td>0.000411</td>\n",
       "    </tr>\n",
       "  </tbody>\n",
       "</table>\n",
       "</div>"
      ],
      "text/plain": [
       "                      feature  importance\n",
       "10                Outlet_Type    0.367534\n",
       "12             Store_Age_Size    0.349663\n",
       "5                    Item_MRP    0.088537\n",
       "7   Outlet_Establishment_Year    0.082485\n",
       "6           Outlet_Identifier    0.064045\n",
       "8                 Outlet_Size    0.022419\n",
       "11           Price_per_Weight    0.014690\n",
       "13             Visibility_MRP    0.002617\n",
       "3             Item_Visibility    0.002021\n",
       "9        Outlet_Location_Type    0.001878\n",
       "1                 Item_Weight    0.001646\n",
       "4                   Item_Type    0.001399\n",
       "0             Item_Identifier    0.000654\n",
       "2            Item_Fat_Content    0.000411"
      ]
     },
     "execution_count": 87,
     "metadata": {},
     "output_type": "execute_result"
    }
   ],
   "source": [
    "feature_importance"
   ]
  }
 ],
 "metadata": {
  "kernelspec": {
   "display_name": "Python 3",
   "language": "python",
   "name": "python3"
  },
  "language_info": {
   "codemirror_mode": {
    "name": "ipython",
    "version": 3
   },
   "file_extension": ".py",
   "mimetype": "text/x-python",
   "name": "python",
   "nbconvert_exporter": "python",
   "pygments_lexer": "ipython3",
   "version": "3.11.8"
  }
 },
 "nbformat": 4,
 "nbformat_minor": 2
}
